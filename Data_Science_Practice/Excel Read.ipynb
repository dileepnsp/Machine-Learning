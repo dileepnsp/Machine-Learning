{
 "cells": [
  {
   "cell_type": "code",
   "execution_count": 19,
   "metadata": {},
   "outputs": [
    {
     "name": "stdout",
     "output_type": "stream",
     "text": [
      "['EAC50', 'EAC51', 'EAC52', 'EAC53', 'EAC54', 'EAC55', 'EAC56', 'EAC57', 'EAC58', 'EAC59']\n",
      "EAC50 100\n",
      "EAC51 131\n",
      "EAC52 58\n",
      "EAC53 68\n",
      "EAC54 11\n",
      "EAC55 27\n",
      "EAC56 103\n",
      "EAC57 66\n",
      "EAC58 49\n",
      "EAC59 48\n"
     ]
    }
   ],
   "source": [
    "import pandas as pd\n",
    "data=pd.ExcelFile(r\"C:\\Users\\cdileepkumar\\Documents\\01 Project\\ArcGIS\\Scripts\\Mapping\\Serene\\20200806 - LOCATION CONFIG ERRORS_EACMAIN_TODELETE.xlsx\")\n",
    "print(data.sheet_names)\n",
    "for sheet in data.sheet_names:\n",
    "    df = pd.read_excel(r\"C:\\Users\\cdileepkumar\\Documents\\01 Project\\ArcGIS\\Scripts\\Mapping\\Serene\\20200806 - LOCATION CONFIG ERRORS_EACMAIN_TODELETE.xlsx\",sheet_name=sheet)\n",
    "    #df.shape()\n",
    "    print(\"{} {}\".format(sheet,df.shape[0]))"
   ]
  }
 ],
 "metadata": {
  "kernelspec": {
   "display_name": "Python 3",
   "language": "python",
   "name": "python3"
  },
  "language_info": {
   "codemirror_mode": {
    "name": "ipython",
    "version": 3
   },
   "file_extension": ".py",
   "mimetype": "text/x-python",
   "name": "python",
   "nbconvert_exporter": "python",
   "pygments_lexer": "ipython3",
   "version": "3.7.4"
  }
 },
 "nbformat": 4,
 "nbformat_minor": 4
}
