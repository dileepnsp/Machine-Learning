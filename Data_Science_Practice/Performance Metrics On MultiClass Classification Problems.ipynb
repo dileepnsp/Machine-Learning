{
 "cells": [
  {
   "cell_type": "markdown",
   "metadata": {},
   "source": [
    "# Performance Metrics On MultiClass Classification Problems"
   ]
  },
  {
   "cell_type": "code",
   "execution_count": 2,
   "metadata": {},
   "outputs": [],
   "source": [
    "from sklearn import metrics"
   ]
  },
  {
   "cell_type": "markdown",
   "metadata": {},
   "source": [
    "The precision for the cat class is the no.of correctly predicted cats out of all predicted cats.\n",
    "The recall for the cat is the no.of correctly predicted cat photots out of no.of actual cat."
   ]
  },
  {
   "cell_type": "code",
   "execution_count": 5,
   "metadata": {},
   "outputs": [
    {
     "name": "stdout",
     "output_type": "stream",
     "text": [
      "[[5 1 0]\n",
      " [3 4 0]\n",
      " [2 3 4]]\n"
     ]
    }
   ],
   "source": [
    "C='cat'\n",
    "D='dog'\n",
    "F='fox'\n",
    "y_true=[C,C,C,C,C,C,F,F,F,F,F,F,F,F,F,D,D,D,D,D,D,D]\n",
    "y_pred=[C,C,C,C,C,D,D,D,D,F,F,F,F,C,C,C,C,C,D,D,D,D]\n",
    "\n",
    "print(metrics.confusion_matrix(y_true,y_pred))"
   ]
  },
  {
   "cell_type": "code",
   "execution_count": 7,
   "metadata": {},
   "outputs": [
    {
     "name": "stdout",
     "output_type": "stream",
     "text": [
      "              precision    recall  f1-score   support\n",
      "\n",
      "         cat      0.500     0.833     0.625         6\n",
      "         dog      0.500     0.571     0.533         7\n",
      "         fox      1.000     0.444     0.615         9\n",
      "\n",
      "    accuracy                          0.591        22\n",
      "   macro avg      0.667     0.616     0.591        22\n",
      "weighted avg      0.705     0.591     0.592        22\n",
      "\n"
     ]
    }
   ],
   "source": [
    "print(metrics.classification_report(y_true,y_pred,digits=3))"
   ]
  },
  {
   "cell_type": "code",
   "execution_count": null,
   "metadata": {},
   "outputs": [],
   "source": []
  }
 ],
 "metadata": {
  "kernelspec": {
   "display_name": "Python 3",
   "language": "python",
   "name": "python3"
  },
  "language_info": {
   "codemirror_mode": {
    "name": "ipython",
    "version": 3
   },
   "file_extension": ".py",
   "mimetype": "text/x-python",
   "name": "python",
   "nbconvert_exporter": "python",
   "pygments_lexer": "ipython3",
   "version": "3.7.4"
  }
 },
 "nbformat": 4,
 "nbformat_minor": 4
}
