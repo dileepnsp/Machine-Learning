{
 "cells": [
  {
   "cell_type": "code",
   "execution_count": 2,
   "metadata": {},
   "outputs": [],
   "source": [
    "# Ways to detect Outlier\n",
    "#1. Using scatter plots\n",
    "#2. Using IQR\n",
    "#3. Using z score\n",
    "#4. Using Box plots"
   ]
  },
  {
   "cell_type": "code",
   "execution_count": 18,
   "metadata": {},
   "outputs": [],
   "source": [
    "#Using z score. z= x-mean/std\n",
    "import numpy as np\n",
    "outliers=[]\n",
    "def detect_outliers(data):\n",
    "    print(data)\n",
    "    threshold=3\n",
    "    mean=np.mean(data)\n",
    "    std=np.std(data)\n",
    "    print(\"mean:{}\".format(mean))\n",
    "    print(\"std:{}\".format(std))\n",
    "    for i in data:\n",
    "        z=(i-mean)/std\n",
    "        print(\"z:{}\".format(z))\n",
    "        if np.abs(z) > 3:\n",
    "            print(z)\n",
    "            outliers.append(i)\n",
    "    return outliers"
   ]
  },
  {
   "cell_type": "code",
   "execution_count": 22,
   "metadata": {},
   "outputs": [
    {
     "name": "stdout",
     "output_type": "stream",
     "text": [
      "[1, 4, 5, 2, 9, 10, 1000]\n",
      "mean:147.28571428571428\n",
      "std:348.13286227519285\n",
      "z:-0.4202008202548773\n",
      "z:-0.4115834206207441\n",
      "z:-0.40871095407603303\n",
      "z:-0.41732835371016624\n",
      "z:-0.39722108789718874\n",
      "z:-0.39434862135247767\n",
      "z:2.4493932579114874\n",
      "[]\n"
     ]
    }
   ],
   "source": [
    "data=[1,4,5,2,9,10,1000]\n",
    "outliers=detect_outliers(data)\n",
    "print(outliers)"
   ]
  },
  {
   "cell_type": "code",
   "execution_count": 23,
   "metadata": {},
   "outputs": [
    {
     "ename": "SyntaxError",
     "evalue": "invalid syntax (<ipython-input-23-e50a25552781>, line 2)",
     "output_type": "error",
     "traceback": [
      "\u001b[1;36m  File \u001b[1;32m\"<ipython-input-23-e50a25552781>\"\u001b[1;36m, line \u001b[1;32m2\u001b[0m\n\u001b[1;33m    1. sort data by ascending order\u001b[0m\n\u001b[1;37m          ^\u001b[0m\n\u001b[1;31mSyntaxError\u001b[0m\u001b[1;31m:\u001b[0m invalid syntax\n"
     ]
    }
   ],
   "source": [
    "# Using  IQR\n",
    "#1. sort data by ascending order\n",
    "#2. calculate 25 percentile and 75 percentile\n",
    "#3. calculate iqr=75% - 25%\n",
    "#4. lowerbound=25%percentile-(1.5*iqr)\n",
    "#5. upper bound=75%percentile + (1.5*iqr)\n"
   ]
  },
  {
   "cell_type": "code",
   "execution_count": 1,
   "metadata": {},
   "outputs": [
    {
     "name": "stdout",
     "output_type": "stream",
     "text": [
      "[1, 2, 3, 4, 5, 6, 8, 11, 11, 23, 34, 53, 102, 130, 180]\n"
     ]
    },
    {
     "ename": "NameError",
     "evalue": "name 'np' is not defined",
     "output_type": "error",
     "traceback": [
      "\u001b[1;31m---------------------------------------------------------------------------\u001b[0m",
      "\u001b[1;31mNameError\u001b[0m                                 Traceback (most recent call last)",
      "\u001b[1;32m<ipython-input-1-0f2fa81a4002>\u001b[0m in \u001b[0;36m<module>\u001b[1;34m\u001b[0m\n\u001b[0;32m      2\u001b[0m \u001b[0mdata\u001b[0m\u001b[1;33m=\u001b[0m\u001b[0msorted\u001b[0m\u001b[1;33m(\u001b[0m\u001b[0mdata\u001b[0m\u001b[1;33m)\u001b[0m\u001b[1;33m\u001b[0m\u001b[1;33m\u001b[0m\u001b[0m\n\u001b[0;32m      3\u001b[0m \u001b[0mprint\u001b[0m\u001b[1;33m(\u001b[0m\u001b[0mdata\u001b[0m\u001b[1;33m)\u001b[0m\u001b[1;33m\u001b[0m\u001b[1;33m\u001b[0m\u001b[0m\n\u001b[1;32m----> 4\u001b[1;33m \u001b[0mq1\u001b[0m\u001b[1;33m,\u001b[0m\u001b[0mq3\u001b[0m\u001b[1;33m=\u001b[0m\u001b[0mnp\u001b[0m\u001b[1;33m.\u001b[0m\u001b[0mpercentile\u001b[0m\u001b[1;33m(\u001b[0m\u001b[0mdata\u001b[0m\u001b[1;33m,\u001b[0m\u001b[1;33m[\u001b[0m\u001b[1;36m25\u001b[0m\u001b[1;33m,\u001b[0m\u001b[1;36m75\u001b[0m\u001b[1;33m]\u001b[0m\u001b[1;33m)\u001b[0m\u001b[1;33m\u001b[0m\u001b[1;33m\u001b[0m\u001b[0m\n\u001b[0m\u001b[0;32m      5\u001b[0m \u001b[0mprint\u001b[0m\u001b[1;33m(\u001b[0m\u001b[0mq1\u001b[0m\u001b[1;33m)\u001b[0m\u001b[1;33m\u001b[0m\u001b[1;33m\u001b[0m\u001b[0m\n\u001b[0;32m      6\u001b[0m \u001b[0mprint\u001b[0m\u001b[1;33m(\u001b[0m\u001b[0mq3\u001b[0m\u001b[1;33m)\u001b[0m\u001b[1;33m\u001b[0m\u001b[1;33m\u001b[0m\u001b[0m\n",
      "\u001b[1;31mNameError\u001b[0m: name 'np' is not defined"
     ]
    }
   ],
   "source": [
    "data=[3,4,5,1,2,11,34,23,11,53,6,8,102,130,180]\n",
    "data=sorted(data)\n",
    "print(data)\n",
    "q1,q3=np.percentile(data,[25,75])\n",
    "print(q1)\n",
    "print(q3)\n",
    "iqr=q3-q1\n",
    "lowerbound=q1-(1.5*iqr)\n",
    "upperbound=q3+(1.5*iqr)\n",
    "print(\"lower bound:{}\".format(lowerbound))\n",
    "print(\"upper bound:{}\".format(upperbound))"
   ]
  },
  {
   "cell_type": "markdown",
   "metadata": {},
   "source": [
    "# 3. Using Mean and STD."
   ]
  },
  {
   "cell_type": "code",
   "execution_count": 9,
   "metadata": {},
   "outputs": [
    {
     "name": "stdout",
     "output_type": "stream",
     "text": [
      "66.0\n",
      "164.0472492911722\n"
     ]
    }
   ],
   "source": [
    "import numpy as np\n",
    "data=np.array([4,2,1,3,5,6,7,500])\n",
    "mean=np.mean(data)\n",
    "print(mean)\n",
    "std=np.std(data)\n",
    "print(std)"
   ]
  },
  {
   "cell_type": "code",
   "execution_count": 12,
   "metadata": {},
   "outputs": [
    {
     "name": "stdout",
     "output_type": "stream",
     "text": [
      "[4, 2, 1, 3, 5, 6, 7, 500]\n",
      "[4, 2, 1, 3, 5, 6, 7]\n"
     ]
    }
   ],
   "source": [
    "outlier_1=[x for x in data if x > mean - 2*std]\n",
    "print(outlier_1)\n",
    "outlier_2=[x for x in data if x < mean + 2*std]\n",
    "print(outlier_2)"
   ]
  },
  {
   "cell_type": "code",
   "execution_count": 14,
   "metadata": {},
   "outputs": [
    {
     "data": {
      "text/plain": [
       "<matplotlib.axes._subplots.AxesSubplot at 0x221bf1773c8>"
      ]
     },
     "execution_count": 14,
     "metadata": {},
     "output_type": "execute_result"
    },
    {
     "data": {
      "image/png": "[encoded data removed]",
      "text/plain": [
       "<Figure size 432x288 with 1 Axes>"
      ]
     },
     "metadata": {
      "needs_background": "light"
     },
     "output_type": "display_data"
    }
   ],
   "source": [
    "import seaborn as sns\n",
    "sns.boxplot(data)"
   ]
  }
 ],
 "metadata": {
  "kernelspec": {
   "display_name": "Python 3",
   "language": "python",
   "name": "python3"
  },
  "language_info": {
   "codemirror_mode": {
    "name": "ipython",
    "version": 3
   },
   "file_extension": ".py",
   "mimetype": "text/x-python",
   "name": "python",
   "nbconvert_exporter": "python",
   "pygments_lexer": "ipython3",
   "version": "3.7.4"
  }
 },
 "nbformat": 4,
 "nbformat_minor": 2
}
